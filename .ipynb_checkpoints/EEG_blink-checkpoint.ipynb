{
 "cells": [
  {
   "cell_type": "code",
   "execution_count": 1,
   "metadata": {},
   "outputs": [],
   "source": [
    "import os.path as op\n",
    "import numpy as np\n",
    "\n",
    "import mne\n",
    "# %matplotlib inline"
   ]
  },
  {
   "cell_type": "code",
   "execution_count": 2,
   "metadata": {},
   "outputs": [
    {
     "name": "stdout",
     "output_type": "stream",
     "text": [
      "Extracting parameters from Obj0002.vhdr...\n",
      "Setting channel info structure...\n",
      "Reading 0 ... 2064249  =      0.000 ...  4128.498 secs...\n",
      "Applying a custom EEG reference.\n",
      "Applying a custom EEG reference.\n"
     ]
    },
    {
     "data": {
      "text/plain": [
       "<RawBrainVision  |  Obj0002.eeg, n_channels x n_times : 34 x 2064250 (4128.5 sec), ~535.5 MB, data loaded>"
      ]
     },
     "execution_count": 2,
     "metadata": {},
     "output_type": "execute_result"
    }
   ],
   "source": [
    "# Load the file and add a virtual channel for re-referencing:\n",
    "raw=mne.io.read_raw_brainvision('Obj0002.vhdr',preload=True)\n",
    "mne.add_reference_channels(raw, 'LiRef', copy=False)\n",
    "raw.set_eeg_reference(['ReRef','LiRef'])"
   ]
  },
  {
   "cell_type": "code",
   "execution_count": null,
   "metadata": {},
   "outputs": [],
   "source": [
    "raw.filter(0.1,30, method='fir')"
   ]
  },
  {
   "cell_type": "code",
   "execution_count": null,
   "metadata": {
    "scrolled": true
   },
   "outputs": [],
   "source": [
    "event_id = {'sem-yes-x': 203,\n",
    "    'sem-no-x': 208,\n",
    "    'world-yes-x': 213,\n",
    "    'world-no-x': 218,\n",
    "    'rel-yes-x': 223,\n",
    "    'rel-no-x': 228,\n",
    "    'abs—min-yes-x': 233,\n",
    "    'abs—min-no-x': 238,\n",
    "    'abs—max-yes-x': 243,\n",
    "    'abs—max-no-x': 248}\n",
    "\n",
    "tmin, tmax = -0.2, 0.5\n",
    "baseline = (None, 0.0)\n",
    "raw.set_channel_types({'EOGli':'eog','EOGre':'eog','EOGobre':'eog','EOGunre':'eog'})\n",
    "reject = {'eog': 200e-6}\n",
    "\n",
    "picks = mne.pick_types(raw.info,eog=True)\n",
    "events = mne.find_events(raw)\n",
    "\n",
    "# Calculate epochs\n",
    "epochs = mne.Epochs(raw, events=events, event_id=event_id, tmin=tmin,\n",
    "                    tmax=tmax, baseline=baseline, reject=reject, picks=picks)\n",
    "epochs.drop_bad()\n",
    "epochs.plot_drop_log()\n"
   ]
  },
  {
   "cell_type": "code",
   "execution_count": null,
   "metadata": {},
   "outputs": [],
   "source": [
    "epochs.plot()"
   ]
  },
  {
   "cell_type": "code",
   "execution_count": null,
   "metadata": {},
   "outputs": [],
   "source": [
    "thresholds = np.arange(10,200,10) * 1e-6\n",
    "drop_rate1 = []\n",
    "for threshold in thresholds:\n",
    "    reject = {'eog': threshold}\n",
    "    #reject = {'eog': 200e-6}\n",
    "    picks = mne.pick_types(raw.info,eog=True)\n",
    "    events = mne.find_events(raw)\n",
    "    # Calculate epochs\n",
    "    epochs = mne.Epochs(raw, events=events, event_id=event_id, tmin=tmin,\n",
    "                        tmax=tmax, baseline=baseline, reject=reject, picks=picks)\n",
    "    epochs.drop_bad()\n",
    "    epochs.plot_drop_log()\n",
    "    drop_rate1.append(epochs.drop_log_stats())"
   ]
  },
  {
   "cell_type": "code",
   "execution_count": null,
   "metadata": {},
   "outputs": [],
   "source": [
    "import matplotlib.pyplot as plt"
   ]
  },
  {
   "cell_type": "code",
   "execution_count": null,
   "metadata": {},
   "outputs": [],
   "source": [
    "plt.plot(thresholds,drop_rate)"
   ]
  },
  {
   "cell_type": "code",
   "execution_count": null,
   "metadata": {},
   "outputs": [],
   "source": [
    "plt.plot(thresholds,drop_rate)\n",
    "plt.plot(thresholds,drop_rate1)"
   ]
  },
  {
   "cell_type": "code",
   "execution_count": null,
   "metadata": {},
   "outputs": [],
   "source": [
    "plt.show()"
   ]
  },
  {
   "cell_type": "code",
   "execution_count": null,
   "metadata": {},
   "outputs": [],
   "source": []
  }
 ],
 "metadata": {
  "kernelspec": {
   "display_name": "Python 3",
   "language": "python",
   "name": "python3"
  },
  "language_info": {
   "codemirror_mode": {
    "name": "ipython",
    "version": 3
   },
   "file_extension": ".py",
   "mimetype": "text/x-python",
   "name": "python",
   "nbconvert_exporter": "python",
   "pygments_lexer": "ipython3",
   "version": "3.6.7"
  }
 },
 "nbformat": 4,
 "nbformat_minor": 2
}
